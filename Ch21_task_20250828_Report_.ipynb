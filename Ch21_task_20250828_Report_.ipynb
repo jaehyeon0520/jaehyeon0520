{
  "cells": [
    {
      "cell_type": "markdown",
      "metadata": {
        "id": "view-in-github",
        "colab_type": "text"
      },
      "source": [
        "<a href=\"https://colab.research.google.com/github/jaehyeon0520/Report_python/blob/main/Ch21_task_20250828_Report_.ipynb\" target=\"_parent\"><img src=\"https://colab.research.google.com/assets/colab-badge.svg\" alt=\"Open In Colab\"/></a>"
      ]
    },
    {
      "cell_type": "markdown",
      "metadata": {
        "id": "UNrA0NO2zs0n"
      },
      "source": [
        "안녕하세요. 수강생 여러분~! Chapter21 ~ 32 수업은 잘 들으셨나요?\n",
        "\n",
        "Chapter21 ~ 32의 수업 내용을 바탕으로 아래 문제를 풀어주시면 됩니다.\n",
        "\n",
        "\n",
        "<br>\n",
        "\n",
        "\n",
        "[**답변 입력 방법**]\n",
        "\n",
        "문제 아래에 있는 코드 입력창에 정답코드를 작성하신 후  __▷ 버튼을 클릭해 코드를 실행__ 해보세요<br>"
      ]
    },
    {
      "cell_type": "markdown",
      "metadata": {
        "id": "yoZclTkQzs0p"
      },
      "source": [
        "---"
      ]
    },
    {
      "cell_type": "markdown",
      "metadata": {
        "id": "mIMZ3_upzs0p"
      },
      "source": [
        "[문제 1]\n",
        "사용자로부터 이름과 나이를 입력 받아, \"안녕하세요, [이름]님! 당신은 [나이]살입니다.\"라고 출력하는 함수 greet_user를 작성하세요."
      ]
    },
    {
      "cell_type": "code",
      "source": [
        "def greet_user():\n",
        "    name = input(\"이름을 입력하세요: \")\n",
        "    age = input(\"나이를 입력하세요: \")\n",
        "    print(f\"안녕하세요, {name}님! 당신은 {age}살입니다.\")\n",
        "\n",
        "# 함수 실행\n",
        "greet_user()"
      ],
      "metadata": {
        "colab": {
          "base_uri": "https://localhost:8080/"
        },
        "id": "dL33261J0MYE",
        "outputId": "41213fcf-9574-4a4d-9122-9144d4f6af59"
      },
      "execution_count": 26,
      "outputs": [
        {
          "output_type": "stream",
          "name": "stdout",
          "text": [
            "이름을 입력하세요: 홍길동\n",
            "나이를 입력하세요: 20\n",
            "안녕하세요, 홍길동님! 당신은 20살입니다.\n"
          ]
        }
      ]
    },
    {
      "cell_type": "markdown",
      "metadata": {
        "id": "8SBkQLSizs0p"
      },
      "source": [
        "---"
      ]
    },
    {
      "cell_type": "markdown",
      "metadata": {
        "id": "8txfVCN2zs0p"
      },
      "source": [
        "[문제 2] 여러 숫자를 입력받아 그 합계를 반환하는 함수 sum_numbers를 작성하세요. 이 때, 가변 매개변수를 사용하세요."
      ]
    },
    {
      "cell_type": "code",
      "source": [
        "def sum_numbers(*args):\n",
        "    return sum(args)\n",
        "\n",
        "# 사용 예시\n",
        "print(sum_numbers(1, 2, 3))\n",
        "print(sum_numbers(10, 20, 30, 40))"
      ],
      "metadata": {
        "colab": {
          "base_uri": "https://localhost:8080/"
        },
        "id": "1gk0uZsb0r_8",
        "outputId": "2b00d448-f45a-4c4b-f541-dee5d4d1039c"
      },
      "execution_count": 27,
      "outputs": [
        {
          "output_type": "stream",
          "name": "stdout",
          "text": [
            "6\n",
            "100\n"
          ]
        }
      ]
    },
    {
      "cell_type": "markdown",
      "metadata": {
        "id": "iHiMEJI4zs0q"
      },
      "source": [
        "---"
      ]
    },
    {
      "cell_type": "markdown",
      "metadata": {
        "id": "7VYVqe8ozs0q"
      },
      "source": [
        "[문제 3] 사용자의 이름을 출력하는 함수 print_name을 작성하세요. 만약 이름이 주어지지 않았다면, 기본값으로 \"익명\"을 사용하세요."
      ]
    },
    {
      "cell_type": "code",
      "source": [
        "def print_name(name=\"익명\"):\n",
        "    print(f\"이름: {name}\")\n",
        "\n",
        "# 사용 예시\n",
        "print_name(\"재현\")\n",
        "print_name()"
      ],
      "metadata": {
        "colab": {
          "base_uri": "https://localhost:8080/"
        },
        "id": "xGsef8811LN_",
        "outputId": "c0b2b421-8a1c-4d71-f9f0-d7feb271060a"
      },
      "execution_count": 28,
      "outputs": [
        {
          "output_type": "stream",
          "name": "stdout",
          "text": [
            "이름: 재현\n",
            "이름: 익명\n"
          ]
        }
      ]
    },
    {
      "cell_type": "markdown",
      "metadata": {
        "id": "1QwOfUstzs0q"
      },
      "source": [
        "---"
      ]
    },
    {
      "cell_type": "markdown",
      "metadata": {
        "id": "XZ-1Hupbzs0q"
      },
      "source": [
        "[문제 4] 사용자의 이름, 나이, 성별을 출력하는 함수 print_info를 작성하세요. 이 때, 모든 매개변수는 키워드 매개변수로만 받도록 하세요."
      ]
    },
    {
      "cell_type": "code",
      "source": [
        "def print_info(*, name, age, gender):\n",
        "    print(f\"이름: {name}\")\n",
        "    print(f\"나이: {age}\")\n",
        "    print(f\"성별: {gender}\")\n",
        "\n",
        "# 사용 예시\n",
        "print_info(name=\"재현\", age=25, gender=\"남성\")"
      ],
      "metadata": {
        "colab": {
          "base_uri": "https://localhost:8080/"
        },
        "id": "7XjCJhVS2Gpk",
        "outputId": "c34c1eb0-2a8f-4713-9c7b-c0d2508802b3"
      },
      "execution_count": 29,
      "outputs": [
        {
          "output_type": "stream",
          "name": "stdout",
          "text": [
            "이름: 재현\n",
            "나이: 25\n",
            "성별: 남성\n"
          ]
        }
      ]
    },
    {
      "cell_type": "markdown",
      "metadata": {
        "id": "dEeMKZ3Lzs0q"
      },
      "source": [
        "---"
      ]
    },
    {
      "cell_type": "markdown",
      "metadata": {
        "id": "mSN1WLZvzs0q"
      },
      "source": [
        "[문제 5] 두 개의 정수를 받아 합을 반환하는 함수 add를 작성하세요. 매개변수와 반환값에 타입 어노테이션을 추가하세요."
      ]
    },
    {
      "cell_type": "code",
      "source": [
        "def add(a: int, b: int) -> int:\n",
        "    return a + b\n",
        "\n",
        "# 사용 예시\n",
        "print(add(3, 5))"
      ],
      "metadata": {
        "colab": {
          "base_uri": "https://localhost:8080/"
        },
        "id": "fhGyTUx93DkP",
        "outputId": "f1839e02-6c87-4174-86e5-65a7f7bd2585"
      },
      "execution_count": 17,
      "outputs": [
        {
          "output_type": "stream",
          "name": "stdout",
          "text": [
            "8\n"
          ]
        }
      ]
    },
    {
      "cell_type": "markdown",
      "metadata": {
        "id": "72CsrZ3izs0r"
      },
      "source": [
        "---"
      ]
    },
    {
      "cell_type": "markdown",
      "metadata": {
        "id": "EMaQBoinzs0r"
      },
      "source": [
        "[문제 6] 0부터 시작하여 n까지의 숫자 중에서 홀수만 생성하는 제너레이터 odd_numbers를 작성하세요."
      ]
    },
    {
      "cell_type": "code",
      "source": [
        "def odd_numbers(n: int):\n",
        "    for i in range(n + 1):\n",
        "        if i % 2 == 1:  # 홀수 판별\n",
        "            yield i\n",
        "\n",
        "# 사용 예시\n",
        "for num in odd_numbers(10):\n",
        "    print(num, end=\" \")"
      ],
      "metadata": {
        "colab": {
          "base_uri": "https://localhost:8080/"
        },
        "id": "jwaUpROb3Egg",
        "outputId": "94219d16-8178-4034-c4d8-740953131bae"
      },
      "execution_count": 9,
      "outputs": [
        {
          "output_type": "stream",
          "name": "stdout",
          "text": [
            "1 3 5 7 9 "
          ]
        }
      ]
    },
    {
      "cell_type": "markdown",
      "metadata": {
        "id": "54dLCVZ3zs0r"
      },
      "source": [
        "---"
      ]
    },
    {
      "cell_type": "markdown",
      "metadata": {
        "id": "HOORWdouzs0r"
      },
      "source": [
        "[문제 7] 두 숫자를 더하는 람다 함수를 작성하고, 이를 변수에 할당한 후 사용하세요."
      ]
    },
    {
      "cell_type": "code",
      "source": [
        "# 두 숫자를 더하는 람다 함수\n",
        "add = lambda x, y: x + y\n",
        "\n",
        "# 사용 예시\n",
        "print(add(3, 5))\n",
        "print(add(10, 20))"
      ],
      "metadata": {
        "colab": {
          "base_uri": "https://localhost:8080/"
        },
        "id": "PXNoo_fX3FJS",
        "outputId": "5157e643-16ed-4a21-e9b9-634114eabf42"
      },
      "execution_count": 16,
      "outputs": [
        {
          "output_type": "stream",
          "name": "stdout",
          "text": [
            "8\n",
            "30\n"
          ]
        }
      ]
    },
    {
      "cell_type": "markdown",
      "metadata": {
        "id": "XTxtfJDqzs0r"
      },
      "source": [
        "---"
      ]
    },
    {
      "cell_type": "markdown",
      "metadata": {
        "id": "tws-QWm2zs0r"
      },
      "source": [
        "[문제 8] 사용자로부터 3개의 숫자를 입력받아, 이를 튜플로 만든 후 최소값과 최대값을 출력하는 함수 min_max를 작성하세요."
      ]
    },
    {
      "cell_type": "code",
      "source": [
        "def min_max():\n",
        "    # 사용자로부터 3개의 숫자 입력받기\n",
        "    nums = tuple(int(input(f\"{i+1}번째 숫자를 입력하세요: \")) for i in range(3))\n",
        "\n",
        "    # 최소값과 최대값 출력\n",
        "    print(f\"입력한 숫자: {nums}\")\n",
        "    print(f\"최소값: {min(nums)}\")\n",
        "    print(f\"최대값: {max(nums)}\")\n",
        "\n",
        "# 함수 실행\n",
        "min_max()\n"
      ],
      "metadata": {
        "colab": {
          "base_uri": "https://localhost:8080/"
        },
        "id": "Q5S3eSjv3F8U",
        "outputId": "5a0821c5-ef04-4c18-9350-3b1ba90e085f"
      },
      "execution_count": 10,
      "outputs": [
        {
          "output_type": "stream",
          "name": "stdout",
          "text": [
            "1번째 숫자를 입력하세요: 5\n",
            "2번째 숫자를 입력하세요: 20\n",
            "3번째 숫자를 입력하세요: 97\n",
            "입력한 숫자: (5, 20, 97)\n",
            "최소값: 5\n",
            "최대값: 97\n"
          ]
        }
      ]
    },
    {
      "cell_type": "markdown",
      "metadata": {
        "id": "mcT37XhLzs0r"
      },
      "source": [
        "---"
      ]
    },
    {
      "cell_type": "markdown",
      "metadata": {
        "id": "Pn-Ib3vAzs0r"
      },
      "source": [
        "[문제 9] 주어진 숫자가 짝수인지 확인하는 함수 is_even을 작성하세요. 짝수라면 True를, 아니라면 False를 반환하세요. 함수 내에서 조기 리턴을 활용하세요."
      ]
    },
    {
      "cell_type": "code",
      "source": [
        "def is_even(n: int) -> bool:\n",
        "    if n % 2 == 0:\n",
        "        return True   # 조기 리턴\n",
        "    return False\n",
        "\n",
        "# 사용 예시\n",
        "print(is_even(4))\n",
        "print(is_even(7))\n"
      ],
      "metadata": {
        "colab": {
          "base_uri": "https://localhost:8080/"
        },
        "id": "Kwi4WB7m3G8W",
        "outputId": "95857d69-b21b-4be8-e51e-fe6d54e3a48c"
      },
      "execution_count": 14,
      "outputs": [
        {
          "output_type": "stream",
          "name": "stdout",
          "text": [
            "True\n",
            "False\n"
          ]
        }
      ]
    },
    {
      "cell_type": "markdown",
      "metadata": {
        "id": "u7R7Z12Fzs0r"
      },
      "source": [
        "---"
      ]
    },
    {
      "cell_type": "markdown",
      "metadata": {
        "id": "ylVMImdxzs0s"
      },
      "source": [
        "[문제 10] 팩토리얼을 계산하는 재귀 함수 factorial을 작성하세요."
      ]
    },
    {
      "cell_type": "code",
      "source": [
        "def factorial(n: int) -> int:\n",
        "    if n == 0 or n == 1:   # 재귀 종료 조건 (base case)\n",
        "        return 1\n",
        "    return n * factorial(n - 1)  # 재귀 호출\n",
        "\n",
        "# 사용 예시\n",
        "print(factorial(5))\n",
        "print(factorial(0))\n"
      ],
      "metadata": {
        "colab": {
          "base_uri": "https://localhost:8080/"
        },
        "id": "6kN9bC2L3HxY",
        "outputId": "5b89b277-44f3-486a-8884-8e31e0ad452a"
      },
      "execution_count": 15,
      "outputs": [
        {
          "output_type": "stream",
          "name": "stdout",
          "text": [
            "120\n",
            "1\n"
          ]
        }
      ]
    },
    {
      "cell_type": "markdown",
      "metadata": {
        "id": "pbE5H-QFzs0s"
      },
      "source": [
        "---"
      ]
    },
    {
      "cell_type": "markdown",
      "metadata": {
        "id": "u_I66Vrzzs0s"
      },
      "source": [
        "[문제 11] 문자열 리스트를 받아, 각 문자열의 길이를 출력하는 함수 print_lengths를 작성하세요."
      ]
    },
    {
      "cell_type": "code",
      "source": [
        "def print_lengths(strings: list[str]) -> None:\n",
        "    for s in strings:\n",
        "        print(f\"'{s}'의 길이: {len(s)}\")\n",
        "\n",
        "# 사용 예시\n",
        "words = [\"apple\", \"banana\", \"cherry\"]\n",
        "print_lengths(words)\n"
      ],
      "metadata": {
        "colab": {
          "base_uri": "https://localhost:8080/"
        },
        "id": "mVjai5X63IeW",
        "outputId": "00cc5ceb-2dd7-4472-82c0-48d5351f7e2c"
      },
      "execution_count": 22,
      "outputs": [
        {
          "output_type": "stream",
          "name": "stdout",
          "text": [
            "'apple'의 길이: 5\n",
            "'banana'의 길이: 6\n",
            "'cherry'의 길이: 6\n"
          ]
        }
      ]
    },
    {
      "cell_type": "markdown",
      "metadata": {
        "id": "S6aqtxNizs0s"
      },
      "source": [
        "---"
      ]
    },
    {
      "cell_type": "markdown",
      "metadata": {
        "id": "J_rRcjY7zs0s"
      },
      "source": [
        "[문제 12] 두 문자열을 받아서 긴 문자열을 반환하는 함수 longer_string을 작성하세요. 만약 두 문자열의 길이가 같다면, 첫 번째 문자열을 반환하세요."
      ]
    },
    {
      "cell_type": "code",
      "source": [
        "def longer_string(s1: str, s2: str) -> str:\n",
        "    if len(s1) >= len(s2):   # 길이가 같을 때도 첫 번째 문자열 반환\n",
        "        return s1\n",
        "    return s2\n",
        "\n",
        "# 사용 예시\n",
        "print(longer_string(\"apple\", \"banana\"))\n",
        "print(longer_string(\"cat\", \"dog\"))\n"
      ],
      "metadata": {
        "colab": {
          "base_uri": "https://localhost:8080/"
        },
        "id": "V83MqQO_3JVF",
        "outputId": "26bcf58f-9923-40d2-9f06-68f0bd8c91c4"
      },
      "execution_count": 24,
      "outputs": [
        {
          "output_type": "stream",
          "name": "stdout",
          "text": [
            "banana\n",
            "cat\n"
          ]
        }
      ]
    }
  ],
  "metadata": {
    "language_info": {
      "name": "python"
    },
    "colab": {
      "provenance": [],
      "include_colab_link": true
    },
    "kernelspec": {
      "name": "python3",
      "display_name": "Python 3"
    }
  },
  "nbformat": 4,
  "nbformat_minor": 0
}